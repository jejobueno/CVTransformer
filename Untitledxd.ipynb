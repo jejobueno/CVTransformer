{
 "cells": [
  {
   "cell_type": "code",
   "execution_count": 241,
   "id": "5b2e88bc",
   "metadata": {},
   "outputs": [],
   "source": [
    "import os,sys"
   ]
  },
  {
   "cell_type": "code",
   "execution_count": 242,
   "id": "6e55e046",
   "metadata": {},
   "outputs": [],
   "source": [
    "from docxtpl import DocxTemplate"
   ]
  },
  {
   "cell_type": "code",
   "execution_count": 243,
   "id": "255c1ad9",
   "metadata": {},
   "outputs": [],
   "source": [
    "from docx import Document"
   ]
  },
  {
   "cell_type": "markdown",
   "id": "6fa34944",
   "metadata": {},
   "source": [
    " doc = DocxTemplate('cv_template_2.3.docx')"
   ]
  },
  {
   "cell_type": "markdown",
   "id": "339b5bb7",
   "metadata": {},
   "source": [
    "document = Document('cv_template_2.3.docx')"
   ]
  },
  {
   "cell_type": "code",
   "execution_count": 244,
   "id": "c21e2dbd",
   "metadata": {},
   "outputs": [],
   "source": [
    "document = Document('cv_template_2.3.docx')"
   ]
  },
  {
   "cell_type": "code",
   "execution_count": 245,
   "id": "9afa0f41",
   "metadata": {},
   "outputs": [],
   "source": [
    "context = {'firstname':'bob'}"
   ]
  },
  {
   "cell_type": "markdown",
   "id": "fbaa66a7",
   "metadata": {},
   "source": [
    "for table in document.tables:\n",
    "    if table.cell(0,0).text == \"PROFESSIONAL REFERENCES\":\n",
    "        ref_table = table"
   ]
  },
  {
   "cell_type": "code",
   "execution_count": 246,
   "id": "ad629a1c",
   "metadata": {},
   "outputs": [
    {
     "name": "stdout",
     "output_type": "stream",
     "text": [
      "Candidate Application\n",
      "Supplier\n",
      "Supplier name\n",
      "Contact person\n",
      "Phone number\n",
      "Email\n",
      "Candidate  Vs Position\n",
      "{{ motivation }}\n",
      "Candidate\n",
      "Last name\n",
      "First name\n",
      "Date of birth\n",
      "Nationality\n",
      "Gender\n",
      "Employee or Freelance\n",
      "Availability\n",
      "Professional References\n",
      "Company\n",
      "\n",
      "\n",
      "\n",
      "Education\n",
      "{{ education }}\n",
      "Certifications\n",
      "{{ certifications }}\n",
      "Languages\n",
      "\n",
      "Spoken\n",
      "Written\n",
      "Comprehension\n",
      "\n",
      "Professional experience  \n",
      "(for every position fulfilled, most recent first, add rows if needed)\n",
      "Company\n",
      "Client\n",
      "Period\n",
      "Role\n",
      "Tasks\n",
      "Tools\n",
      "Environment\n",
      "Methodology\n",
      "Company\n",
      "Client\n",
      "Period\n",
      "Role\n",
      "Tasks\n",
      "Tools\n",
      "Environment\n",
      "Methodology\n",
      "Company\n",
      "Client\n",
      "Period\n",
      "Role\n",
      "Tasks\n",
      "Tools\n",
      "Environment\n",
      "Methodology\n",
      "Management Skills\n",
      "List  relevant management skills\n",
      "Technical Skills\n",
      "List relevant technical skills\n",
      "Others\n",
      "\n"
     ]
    }
   ],
   "source": [
    "for table in document.tables:\n",
    "    for row in table.rows:\n",
    "        print(row.cells[0].text)"
   ]
  },
  {
   "cell_type": "markdown",
   "id": "d7cca0cc",
   "metadata": {},
   "source": [
    "table = document.tables[0]"
   ]
  },
  {
   "cell_type": "code",
   "execution_count": 247,
   "id": "4a7e216f",
   "metadata": {},
   "outputs": [],
   "source": [
    "row = table.add_row().cells"
   ]
  },
  {
   "cell_type": "code",
   "execution_count": 248,
   "id": "661f6a85",
   "metadata": {},
   "outputs": [],
   "source": [
    "row2 = table.add_row().cells"
   ]
  },
  {
   "cell_type": "code",
   "execution_count": 249,
   "id": "b3b541ff",
   "metadata": {},
   "outputs": [],
   "source": [
    "row3 = table.add_row().cells"
   ]
  },
  {
   "cell_type": "code",
   "execution_count": 250,
   "id": "a7451f54",
   "metadata": {},
   "outputs": [],
   "source": [
    "row4 = table.add_row().cells"
   ]
  },
  {
   "cell_type": "code",
   "execution_count": 251,
   "id": "2b39832d",
   "metadata": {},
   "outputs": [],
   "source": [
    "row5 = table.add_row().cells"
   ]
  },
  {
   "cell_type": "code",
   "execution_count": 252,
   "id": "62f5803c",
   "metadata": {},
   "outputs": [],
   "source": [
    "row6 = table.add_row().cells"
   ]
  },
  {
   "cell_type": "markdown",
   "id": "5a6c74b0",
   "metadata": {},
   "source": [
    "doc.render(context)"
   ]
  },
  {
   "cell_type": "code",
   "execution_count": 253,
   "id": "a9b9d914",
   "metadata": {},
   "outputs": [],
   "source": [
    "document.save('renderedTest.docx')"
   ]
  },
  {
   "cell_type": "code",
   "execution_count": 254,
   "id": "8df09848",
   "metadata": {},
   "outputs": [
    {
     "ename": "NameError",
     "evalue": "name 'ref_table' is not defined",
     "output_type": "error",
     "traceback": [
      "\u001b[0;31m---------------------------------------------------------------------------\u001b[0m",
      "\u001b[0;31mNameError\u001b[0m                                 Traceback (most recent call last)",
      "Input \u001b[0;32mIn [254]\u001b[0m, in \u001b[0;36m<cell line: 1>\u001b[0;34m()\u001b[0m\n\u001b[0;32m----> 1\u001b[0m \u001b[43mref_table\u001b[49m\n",
      "\u001b[0;31mNameError\u001b[0m: name 'ref_table' is not defined"
     ]
    }
   ],
   "source": [
    "ref_table"
   ]
  },
  {
   "cell_type": "code",
   "execution_count": null,
   "id": "11af410c",
   "metadata": {},
   "outputs": [],
   "source": []
  }
 ],
 "metadata": {
  "kernelspec": {
   "display_name": "Python 3 (ipykernel)",
   "language": "python",
   "name": "python3"
  },
  "language_info": {
   "codemirror_mode": {
    "name": "ipython",
    "version": 3
   },
   "file_extension": ".py",
   "mimetype": "text/x-python",
   "name": "python",
   "nbconvert_exporter": "python",
   "pygments_lexer": "ipython3",
   "version": "3.9.12"
  }
 },
 "nbformat": 4,
 "nbformat_minor": 5
}
